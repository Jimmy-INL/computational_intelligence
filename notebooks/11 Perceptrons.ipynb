{
 "cells": [
  {
   "cell_type": "code",
   "execution_count": null,
   "metadata": {},
   "outputs": [],
   "source": [
    "%matplotlib inline\n",
    "import numpy as np\n",
    "from matplotlib import pyplot as plt\n",
    "from matplotlib.colors import ListedColormap"
   ]
  },
  {
   "cell_type": "markdown",
   "metadata": {},
   "source": [
    "# Perceptrons"
   ]
  },
  {
   "cell_type": "markdown",
   "metadata": {},
   "source": [
    "Perceptrons are simply individual models which are optimized together in a network. Let's use classification to understand them. Here is some highly mixed data:"
   ]
  },
  {
   "cell_type": "code",
   "execution_count": null,
   "metadata": {},
   "outputs": [],
   "source": [
    "from sklearn.model_selection import train_test_split\n",
    "from sklearn import preprocessing \n",
    "from sklearn.preprocessing import StandardScaler\n",
    "from sklearn.datasets import make_moons\n",
    "\n",
    "# Create artificial dataset (classification problem within 2 classes within R^2 input space)\n",
    "X, y = make_moons(n_samples=900, noise=0.2, random_state=0)\n",
    "\n",
    "# Preprocess dataset, and split into training and test part\n",
    "X = StandardScaler().fit_transform(X)\n",
    "X_train, X_test, y_train, y_test = train_test_split(X, y, test_size=0.7)\n",
    "\n",
    "# Encode class labels as binary vector (with exactly ONE bit set to 1, and all others to 0)\n",
    "Y_train_OneHot = np.eye(2)[y_train]\n",
    "Y_test_OneHot = np.eye(2)[y_test]\n",
    "\n",
    "# Plot training+testing dataset\n",
    "cm = plt.cm.RdBu\n",
    "cm_bright = ListedColormap(['#FF0000', '#0000FF'])\n",
    "\n",
    "# Plot the training points...\n",
    "plt.scatter(X_train[:, 0], X_train[:, 1], c=y_train, cmap=cm_bright)\n",
    "#   ...and testing points\n",
    "plt.scatter(X_test[:, 0], X_test[:, 1], marker='x', c=y_test, cmap=cm_bright, alpha=0.3)\n",
    "\n",
    "print(\"Datasets: circles=training, light-crosses=test [and red=class_1, blue=class_2]\")"
   ]
  },
  {
   "cell_type": "markdown",
   "metadata": {},
   "source": [
    "We will first define a classifier with a single node. This is simply a linear classifier! Using SGD, this will do no better than our linear classifiers from before."
   ]
  },
  {
   "cell_type": "code",
   "execution_count": null,
   "metadata": {},
   "outputs": [],
   "source": [
    "from sklearn.neural_network import MLPClassifier\n",
    "\n",
    "clf = MLPClassifier(hidden_layer_sizes=(1,), solver='sgd', \n",
    "                    batch_size=4, learning_rate_init=0.005,\n",
    "                    max_iter=500, shuffle=True)\n",
    "# Train the MLP classifier on training dataset\n",
    "clf.fit(X_train, Y_train_OneHot)\n",
    "print(\"Number of layers: \", clf.n_layers_)\n",
    "print(\"Number of outputs: \", clf.n_outputs_)\n"
   ]
  },
  {
   "cell_type": "markdown",
   "metadata": {},
   "source": [
    "This network has 2 outputs, meaning the given classification will be whichever output is higher. We can also ask for the probability estimates, which in a multi-class problem might give better understanding of how well we classified things."
   ]
  },
  {
   "cell_type": "code",
   "execution_count": null,
   "metadata": {},
   "outputs": [],
   "source": [
    "print(clf.predict(X_train)[1:5, :])\n",
    "print(clf.predict_proba(X_train)[1:5, :])"
   ]
  },
  {
   "cell_type": "code",
   "execution_count": null,
   "metadata": {},
   "outputs": [],
   "source": [
    "h = np.argmax(clf.predict(X_train), axis=1)\n",
    "fig, ax = plt.subplots(1, 2, figsize=(16, 6))\n",
    "ax[0].scatter(X_train[:, 0], X_train[:, 1], c=y_train, cmap=cm_bright)\n",
    "ax[0].set_title(\"Data\");\n",
    "ax[1].scatter(X_train[:, 0], X_train[:, 1], c=h, cmap=cm_bright)\n",
    "ax[1].set_title(\"Prediction\");"
   ]
  },
  {
   "cell_type": "code",
   "execution_count": null,
   "metadata": {},
   "outputs": [],
   "source": [
    "print(\"Train accuracy: \", clf.score(X_train, Y_train_OneHot), \" test accuracy:\", clf.score(X_test,Y_test_OneHot))"
   ]
  },
  {
   "cell_type": "markdown",
   "metadata": {},
   "source": [
    "However, we can change the architecture of our multi-layer perceptron to include more nodes. First, let's increase the size of our single hidden layer."
   ]
  },
  {
   "cell_type": "code",
   "execution_count": null,
   "metadata": {},
   "outputs": [],
   "source": [
    "clf = MLPClassifier(hidden_layer_sizes=(10,), solver='sgd', \n",
    "                    batch_size=4, learning_rate_init=0.005,\n",
    "                    max_iter=500, shuffle=True)\n",
    "clf.fit(X_train, Y_train_OneHot)\n",
    "h = np.argmax(clf.predict(X_train), axis=1)\n",
    "fig, ax = plt.subplots(1, 2, figsize=(16, 6))\n",
    "ax[0].scatter(X_train[:, 0], X_train[:, 1], c=y_train, cmap=cm_bright)\n",
    "ax[0].set_title(\"Data\");\n",
    "ax[1].scatter(X_train[:, 0], X_train[:, 1], c=h, cmap=cm_bright)\n",
    "ax[1].set_title(\"Prediction\");\n",
    "print(\"Train accuracy: \", clf.score(X_train, Y_train_OneHot), \" test accuracy:\", clf.score(X_test,Y_test_OneHot))"
   ]
  },
  {
   "cell_type": "markdown",
   "metadata": {},
   "source": [
    "Using backpropagation, we can also add multiple layers to the model."
   ]
  },
  {
   "cell_type": "code",
   "execution_count": null,
   "metadata": {},
   "outputs": [],
   "source": [
    "clf = MLPClassifier(hidden_layer_sizes=(10,10), solver='sgd', \n",
    "                    batch_size=4, learning_rate_init=0.005,\n",
    "                    max_iter=500, shuffle=True)\n",
    "clf.fit(X_train, Y_train_OneHot)\n",
    "print(\"Number of layers: \", clf.n_layers_)\n",
    "print(\"Number of outputs: \", clf.n_outputs_)\n",
    "h = np.argmax(clf.predict(X_train), axis=1)\n",
    "fig, ax = plt.subplots(1, 2, figsize=(16, 6))\n",
    "ax[0].scatter(X_train[:, 0], X_train[:, 1], c=y_train, cmap=cm_bright)\n",
    "ax[0].set_title(\"Data\");\n",
    "ax[1].scatter(X_train[:, 0], X_train[:, 1], c=h, cmap=cm_bright)\n",
    "ax[1].set_title(\"Prediction\");\n",
    "print(\"Train accuracy: \", clf.score(X_train, Y_train_OneHot), \" test accuracy:\", clf.score(X_test,Y_test_OneHot))"
   ]
  },
  {
   "cell_type": "markdown",
   "metadata": {},
   "source": [
    "<div class=\"alert alert-success\">\n",
    "    <b>EXERCISE</b>:\n",
    "     <ul>\n",
    "      <li>\n",
    "      Download ``03_mlp_iris.py`` from the course website. We start with a single hidden layer of 4 neurons. Modify the architecture to get a better classification accuracy.\n",
    "      </li>\n",
    "    </ul>\n",
    "</div>"
   ]
  },
  {
   "cell_type": "code",
   "execution_count": null,
   "metadata": {},
   "outputs": [],
   "source": [
    "import numpy as np\n",
    "from matplotlib import pyplot as plt\n",
    "from matplotlib.colors import ListedColormap\n",
    "from sklearn import svm, datasets\n",
    "from sklearn.model_selection import train_test_split\n",
    "from sklearn.neural_network import MLPClassifier\n",
    "\n",
    "iris = datasets.load_iris()\n",
    "X = iris.data\n",
    "y = iris.target\n",
    "\n",
    "X_train, X_test, y_train, y_test = train_test_split(X, y, test_size=0.7)\n",
    "\n",
    "# Encode class labels as binary vector (with exactly ONE bit set to 1, and all others to 0)\n",
    "Y_train_OneHot = np.eye(4)[y_train]\n",
    "Y_test_OneHot = np.eye(4)[y_test]\n",
    "\n",
    "clf = MLPClassifier(hidden_layer_sizes=(4,), solver='sgd', \n",
    "                    batch_size=4, learning_rate_init=0.005,\n",
    "                    max_iter=500, shuffle=True)\n",
    "clf.fit(X_train, Y_train_OneHot)\n",
    "print(\"Number of layers: \", clf.n_layers_)\n",
    "print(\"Number of outputs: \", clf.n_outputs_)\n",
    "h = np.argmax(clf.predict(X_train), axis=1)\n",
    "fig, ax = plt.subplots(1, 2, figsize=(16, 6))\n",
    "ax[0].scatter(X_train[:, 0], X_train[:, 1], c=y_train, cmap=\"viridis\")\n",
    "ax[0].set_title(\"Data\");\n",
    "ax[1].scatter(X_train[:, 0], X_train[:, 1], c=h, cmap=\"viridis\")\n",
    "ax[1].set_title(\"Prediction\");\n",
    "print(\"Train accuracy: \", clf.score(X_train, Y_train_OneHot), \" test accuracy:\", clf.score(X_test,Y_test_OneHot))"
   ]
  },
  {
   "cell_type": "code",
   "execution_count": null,
   "metadata": {},
   "outputs": [],
   "source": []
  }
 ],
 "metadata": {
  "kernelspec": {
   "display_name": "Python 3",
   "language": "python",
   "name": "python3"
  },
  "language_info": {
   "codemirror_mode": {
    "name": "ipython",
    "version": 3
   },
   "file_extension": ".py",
   "mimetype": "text/x-python",
   "name": "python",
   "nbconvert_exporter": "python",
   "pygments_lexer": "ipython3",
   "version": "3.6.4"
  }
 },
 "nbformat": 4,
 "nbformat_minor": 2
}
