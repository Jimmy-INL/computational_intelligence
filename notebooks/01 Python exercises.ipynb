{
 "cells": [
  {
   "cell_type": "markdown",
   "metadata": {
    "slideshow": {
     "slide_type": "slide"
    }
   },
   "source": [
    "# Python exercises"
   ]
  },
  {
   "cell_type": "markdown",
   "metadata": {
    "slideshow": {
     "slide_type": "slide"
    }
   },
   "source": [
    "1) Using a for loop, write a program that prints out the decimal equivalents of 1/2,1/3,1/4,...,1/10.\n",
    "\n",
    "2) Write code that prints out the odd numbers 1 through 20. Bonus: Use list comprehension\n",
    "\n",
    "3) Write a function to reverse a string. The string can be of any length and might be empty. Use the function to print a reverse version of your name"
   ]
  },
  {
   "cell_type": "markdown",
   "metadata": {
    "slideshow": {
     "slide_type": "slide"
    }
   },
   "source": [
    "4) A student receives the following instructions:\n",
    "\n",
    "Write a `negate` function that takes a number and returns the negation of that number.  Also write a `large num` function that takes a number, and returns `True` if that number is bigger than 10000, and `False` otherwise. Additionally, write some code to test your functions.\n",
    "\n",
    "Can you find and fix the bugs in their code?"
   ]
  },
  {
   "cell_type": "code",
   "execution_count": null,
   "metadata": {
    "slideshow": {
     "slide_type": "fragment"
    }
   },
   "outputs": [],
   "source": [
    "def negate(num):\n",
    "    return -num\n",
    "\n",
    "def large_num(num):\n",
    "    res = (num > 10000)\n",
    "\n",
    "negate(b)\n",
    "neg_b = num\n",
    "print(\"b:\", b, \"neg_b:\", neg_b)\n",
    "big = large_num(b)\n",
    "print(\"b is big:\", big)"
   ]
  },
  {
   "cell_type": "code",
   "execution_count": null,
   "metadata": {
    "slideshow": {
     "slide_type": "slide"
    }
   },
   "outputs": [],
   "source": [
    "#%load sols/01_exercises.py"
   ]
  },
  {
   "cell_type": "markdown",
   "metadata": {
    "slideshow": {
     "slide_type": "slide"
    }
   },
   "source": [
    "5) For this exercise, you will be coding your very first class, a Queue class.  Queues are a fundamental computer science data structure.  A queue is basically like a line at Disneyland - you can add elements to a queue, and they maintain a specific order.  When you want to get something off the end of a queue, you get the item that has been in there the longest (this is known as ‘first-in-first-out’, or FIFO).\n",
    "\n",
    "In your Queue class, you will need three methods:\n",
    "    * `__init__`:  to initialize your Queue (think:  how will you store the queue’s elements?  You’ll need to initialize an appropriate object attribute in this method)\n",
    "    * `insert`:  inserts one element in your Queue\n",
    "    * `remove`: removes one element from your Queue and returns it.  If the queue is empty, print a message that says it is empty (without throwing an error that halts your code). "
   ]
  },
  {
   "cell_type": "markdown",
   "metadata": {
    "slideshow": {
     "slide_type": "slide"
    }
   },
   "source": [
    "```python\n",
    "queue = Queue()\n",
    ">> queue.insert(5)\n",
    ">> queue.insert(6)\n",
    ">> queue.remove()\n",
    "5\n",
    ">> queue.insert(7)\n",
    ">> queue.remove()\n",
    "6\n",
    ">> queue.remove()\n",
    "7\n",
    ">> queue.remove()\n",
    "The queue is empty\n",
    "```"
   ]
  },
  {
   "cell_type": "code",
   "execution_count": null,
   "metadata": {
    "slideshow": {
     "slide_type": "slide"
    }
   },
   "outputs": [],
   "source": [
    "%load sols/01_queue.py"
   ]
  },
  {
   "cell_type": "code",
   "execution_count": null,
   "metadata": {
    "slideshow": {
     "slide_type": "fragment"
    }
   },
   "outputs": [],
   "source": [
    "queue = Queue()"
   ]
  },
  {
   "cell_type": "code",
   "execution_count": null,
   "metadata": {
    "slideshow": {
     "slide_type": "fragment"
    }
   },
   "outputs": [],
   "source": [
    "queue.insert(5)"
   ]
  },
  {
   "cell_type": "code",
   "execution_count": null,
   "metadata": {
    "slideshow": {
     "slide_type": "fragment"
    }
   },
   "outputs": [],
   "source": [
    "queue.insert(6)"
   ]
  },
  {
   "cell_type": "code",
   "execution_count": null,
   "metadata": {
    "slideshow": {
     "slide_type": "fragment"
    }
   },
   "outputs": [],
   "source": [
    "queue.remove()"
   ]
  },
  {
   "cell_type": "code",
   "execution_count": null,
   "metadata": {
    "slideshow": {
     "slide_type": "fragment"
    }
   },
   "outputs": [],
   "source": [
    "queue.insert(7)"
   ]
  },
  {
   "cell_type": "code",
   "execution_count": null,
   "metadata": {
    "slideshow": {
     "slide_type": "fragment"
    }
   },
   "outputs": [],
   "source": [
    "queue.remove()"
   ]
  },
  {
   "cell_type": "code",
   "execution_count": null,
   "metadata": {
    "slideshow": {
     "slide_type": "fragment"
    }
   },
   "outputs": [],
   "source": [
    "queue.remove()"
   ]
  },
  {
   "cell_type": "code",
   "execution_count": null,
   "metadata": {
    "slideshow": {
     "slide_type": "fragment"
    }
   },
   "outputs": [],
   "source": [
    "queue.remove()"
   ]
  }
 ],
 "metadata": {
  "@webio": {
   "lastCommId": "704536fe4f0b401d91b2db71bbd21fcf",
   "lastKernelId": "74ece5a4-b684-40c3-b113-9d399a5e65bc"
  },
  "celltoolbar": "Slideshow",
  "kernelspec": {
   "display_name": "Python 3",
   "language": "python",
   "name": "python3"
  },
  "language_info": {
   "codemirror_mode": {
    "name": "ipython",
    "version": 3
   },
   "file_extension": ".py",
   "mimetype": "text/x-python",
   "name": "python",
   "nbconvert_exporter": "python",
   "pygments_lexer": "ipython3",
   "version": "3.6.6"
  }
 },
 "nbformat": 4,
 "nbformat_minor": 2
}
